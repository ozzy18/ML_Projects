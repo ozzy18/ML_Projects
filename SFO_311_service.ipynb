{
 "cells": [
  {
   "cell_type": "code",
   "execution_count": 1,
   "metadata": {
    "collapsed": true
   },
   "outputs": [],
   "source": [
    "%matplotlib inline\n",
    "import pandas as pd\n",
    "import matplotlib.pyplot as plt"
   ]
  },
  {
   "cell_type": "code",
   "execution_count": 2,
   "metadata": {
    "collapsed": false
   },
   "outputs": [],
   "source": [
    "### Read the csv data into pandas\n",
    "data_frame=pd.read_csv(\"311_cases.csv\", usecols=[\"CaseID\",\"Opened\",\"Closed\",\"Responsible Agency\",\n",
    "                                \"Category\",\"Request Type\",\"Request Details\",\"Latitude\",\"Source\",\"Longitude\"])"
   ]
  },
  {
   "cell_type": "code",
   "execution_count": 3,
   "metadata": {
    "collapsed": false
   },
   "outputs": [
    {
     "data": {
      "text/html": [
       "<div>\n",
       "<table border=\"1\" class=\"dataframe\">\n",
       "  <thead>\n",
       "    <tr style=\"text-align: right;\">\n",
       "      <th></th>\n",
       "      <th>CaseID</th>\n",
       "      <th>Opened</th>\n",
       "      <th>Closed</th>\n",
       "      <th>Responsible Agency</th>\n",
       "      <th>Category</th>\n",
       "      <th>Request Type</th>\n",
       "      <th>Request Details</th>\n",
       "      <th>Latitude</th>\n",
       "      <th>Longitude</th>\n",
       "      <th>Source</th>\n",
       "    </tr>\n",
       "  </thead>\n",
       "  <tbody>\n",
       "    <tr>\n",
       "      <th>0</th>\n",
       "      <td>241459</td>\n",
       "      <td>07/02/2008 03:16:55 PM</td>\n",
       "      <td>07/12/2010 10:16:59 AM</td>\n",
       "      <td>DPW Ops Queue</td>\n",
       "      <td>Tree Maintenance</td>\n",
       "      <td>Trees - Damaging_Property</td>\n",
       "      <td>Lifted_sidewalk_tree_roots</td>\n",
       "      <td>37.80493</td>\n",
       "      <td>-122.4381</td>\n",
       "      <td>Phone</td>\n",
       "    </tr>\n",
       "    <tr>\n",
       "      <th>1</th>\n",
       "      <td>241538</td>\n",
       "      <td>07/02/2008 04:47:08 PM</td>\n",
       "      <td>06/25/2010 11:16:56 AM</td>\n",
       "      <td>DPW Ops Queue</td>\n",
       "      <td>Tree Maintenance</td>\n",
       "      <td>Trees - Damaged_Tree</td>\n",
       "      <td>Hanging_limb</td>\n",
       "      <td>37.78257</td>\n",
       "      <td>-122.4308</td>\n",
       "      <td>Phone</td>\n",
       "    </tr>\n",
       "    <tr>\n",
       "      <th>2</th>\n",
       "      <td>241571</td>\n",
       "      <td>07/02/2008 05:54:07 PM</td>\n",
       "      <td>10/21/2010 12:09:32 PM</td>\n",
       "      <td>DPW Ops Queue</td>\n",
       "      <td>Tree Maintenance</td>\n",
       "      <td>Trees - Overgrown_Tree</td>\n",
       "      <td>Blocking_street_lights</td>\n",
       "      <td>37.78120</td>\n",
       "      <td>-122.4650</td>\n",
       "      <td>Phone</td>\n",
       "    </tr>\n",
       "    <tr>\n",
       "      <th>3</th>\n",
       "      <td>241909</td>\n",
       "      <td>07/03/2008 12:38:04 PM</td>\n",
       "      <td>06/25/2010 11:16:56 AM</td>\n",
       "      <td>DPW Ops Queue</td>\n",
       "      <td>Tree Maintenance</td>\n",
       "      <td>Trees - Landscaping</td>\n",
       "      <td>Sprinkler_system_issues</td>\n",
       "      <td>37.74384</td>\n",
       "      <td>-122.4244</td>\n",
       "      <td>Phone</td>\n",
       "    </tr>\n",
       "    <tr>\n",
       "      <th>4</th>\n",
       "      <td>241917</td>\n",
       "      <td>07/03/2008 12:44:26 PM</td>\n",
       "      <td>07/06/2010 06:16:58 PM</td>\n",
       "      <td>DPW Ops Queue</td>\n",
       "      <td>Street and Sidewalk Cleaning</td>\n",
       "      <td>General Cleaning</td>\n",
       "      <td>Other Loose Garbage</td>\n",
       "      <td>37.78361</td>\n",
       "      <td>-122.3898</td>\n",
       "      <td>Phone</td>\n",
       "    </tr>\n",
       "  </tbody>\n",
       "</table>\n",
       "</div>"
      ],
      "text/plain": [
       "   CaseID                  Opened                  Closed Responsible Agency  \\\n",
       "0  241459  07/02/2008 03:16:55 PM  07/12/2010 10:16:59 AM      DPW Ops Queue   \n",
       "1  241538  07/02/2008 04:47:08 PM  06/25/2010 11:16:56 AM      DPW Ops Queue   \n",
       "2  241571  07/02/2008 05:54:07 PM  10/21/2010 12:09:32 PM      DPW Ops Queue   \n",
       "3  241909  07/03/2008 12:38:04 PM  06/25/2010 11:16:56 AM      DPW Ops Queue   \n",
       "4  241917  07/03/2008 12:44:26 PM  07/06/2010 06:16:58 PM      DPW Ops Queue   \n",
       "\n",
       "                       Category               Request Type  \\\n",
       "0              Tree Maintenance  Trees - Damaging_Property   \n",
       "1              Tree Maintenance       Trees - Damaged_Tree   \n",
       "2              Tree Maintenance     Trees - Overgrown_Tree   \n",
       "3              Tree Maintenance        Trees - Landscaping   \n",
       "4  Street and Sidewalk Cleaning           General Cleaning   \n",
       "\n",
       "              Request Details  Latitude  Longitude Source  \n",
       "0  Lifted_sidewalk_tree_roots  37.80493  -122.4381  Phone  \n",
       "1                Hanging_limb  37.78257  -122.4308  Phone  \n",
       "2      Blocking_street_lights  37.78120  -122.4650  Phone  \n",
       "3     Sprinkler_system_issues  37.74384  -122.4244  Phone  \n",
       "4         Other Loose Garbage  37.78361  -122.3898  Phone  "
      ]
     },
     "execution_count": 3,
     "metadata": {},
     "output_type": "execute_result"
    }
   ],
   "source": [
    "##Checkout the first few rows of the data frame\n",
    "data_frame.head(5)"
   ]
  },
  {
   "cell_type": "code",
   "execution_count": 4,
   "metadata": {
    "collapsed": false
   },
   "outputs": [
    {
     "name": "stdout",
     "output_type": "stream",
     "text": [
      "2837820\n"
     ]
    }
   ],
   "source": [
    "## Number of rows in the dataframe\n",
    "print(data_frame[\"CaseID\"].count()+1)"
   ]
  },
  {
   "cell_type": "code",
   "execution_count": 5,
   "metadata": {
    "collapsed": true
   },
   "outputs": [],
   "source": [
    "## Delete the cases that are not closed\n",
    "data_frame.dropna(axis=0,inplace=True)"
   ]
  },
  {
   "cell_type": "code",
   "execution_count": 6,
   "metadata": {
    "collapsed": false
   },
   "outputs": [
    {
     "name": "stdout",
     "output_type": "stream",
     "text": [
      "2690358\n"
     ]
    }
   ],
   "source": [
    "print(data_frame[\"CaseID\"].count()+1)"
   ]
  },
  {
   "cell_type": "code",
   "execution_count": 7,
   "metadata": {
    "collapsed": false
   },
   "outputs": [],
   "source": [
    "### Convert str to datetime for column \"Opened\"\n",
    "data_frame[\"Opened\"]=pd.to_datetime(data_frame[\"Opened\"],format=\"%m/%d/%Y %I:%M:%S %p\")"
   ]
  },
  {
   "cell_type": "code",
   "execution_count": 8,
   "metadata": {
    "collapsed": true
   },
   "outputs": [],
   "source": [
    "### Convert str to datetime for column \"Closed\"\n",
    "data_frame[\"Closed\"]=pd.to_datetime(data_frame[\"Closed\"],format=\"%m/%d/%Y %I:%M:%S %p\")"
   ]
  },
  {
   "cell_type": "code",
   "execution_count": 9,
   "metadata": {
    "collapsed": false
   },
   "outputs": [
    {
     "name": "stdout",
     "output_type": "stream",
     "text": [
      "<class 'numpy.float64'>\n"
     ]
    },
    {
     "data": {
      "text/html": [
       "<div>\n",
       "<table border=\"1\" class=\"dataframe\">\n",
       "  <thead>\n",
       "    <tr style=\"text-align: right;\">\n",
       "      <th></th>\n",
       "      <th>CaseID</th>\n",
       "      <th>Opened</th>\n",
       "      <th>Closed</th>\n",
       "      <th>Responsible Agency</th>\n",
       "      <th>Category</th>\n",
       "      <th>Request Type</th>\n",
       "      <th>Request Details</th>\n",
       "      <th>Latitude</th>\n",
       "      <th>Longitude</th>\n",
       "      <th>Source</th>\n",
       "      <th>ProcessTime</th>\n",
       "    </tr>\n",
       "  </thead>\n",
       "  <tbody>\n",
       "    <tr>\n",
       "      <th>0</th>\n",
       "      <td>241459</td>\n",
       "      <td>2008-07-02 15:16:55</td>\n",
       "      <td>2010-07-12 10:16:59</td>\n",
       "      <td>DPW Ops Queue</td>\n",
       "      <td>Tree Maintenance</td>\n",
       "      <td>Trees - Damaging_Property</td>\n",
       "      <td>Lifted_sidewalk_tree_roots</td>\n",
       "      <td>37.80493</td>\n",
       "      <td>-122.4381</td>\n",
       "      <td>Phone</td>\n",
       "      <td>17755.0</td>\n",
       "    </tr>\n",
       "    <tr>\n",
       "      <th>1</th>\n",
       "      <td>241538</td>\n",
       "      <td>2008-07-02 16:47:08</td>\n",
       "      <td>2010-06-25 11:16:56</td>\n",
       "      <td>DPW Ops Queue</td>\n",
       "      <td>Tree Maintenance</td>\n",
       "      <td>Trees - Damaged_Tree</td>\n",
       "      <td>Hanging_limb</td>\n",
       "      <td>37.78257</td>\n",
       "      <td>-122.4308</td>\n",
       "      <td>Phone</td>\n",
       "      <td>17346.0</td>\n",
       "    </tr>\n",
       "  </tbody>\n",
       "</table>\n",
       "</div>"
      ],
      "text/plain": [
       "   CaseID              Opened              Closed Responsible Agency  \\\n",
       "0  241459 2008-07-02 15:16:55 2010-07-12 10:16:59      DPW Ops Queue   \n",
       "1  241538 2008-07-02 16:47:08 2010-06-25 11:16:56      DPW Ops Queue   \n",
       "\n",
       "           Category               Request Type             Request Details  \\\n",
       "0  Tree Maintenance  Trees - Damaging_Property  Lifted_sidewalk_tree_roots   \n",
       "1  Tree Maintenance       Trees - Damaged_Tree                Hanging_limb   \n",
       "\n",
       "   Latitude  Longitude Source  ProcessTime  \n",
       "0  37.80493  -122.4381  Phone      17755.0  \n",
       "1  37.78257  -122.4308  Phone      17346.0  "
      ]
     },
     "execution_count": 9,
     "metadata": {},
     "output_type": "execute_result"
    }
   ],
   "source": [
    "##Calculate process time in seconds\n",
    "\n",
    "data_frame[\"ProcessTime\"]=data_frame[\"Closed\"].subtract(data_frame[\"Opened\"]).astype('timedelta64[h]')\n",
    "print(type(data_frame[\"ProcessTime\"].iloc[0]))\n",
    "data_frame.head(2)\n"
   ]
  },
  {
   "cell_type": "code",
   "execution_count": 15,
   "metadata": {
    "collapsed": false
   },
   "outputs": [],
   "source": [
    "data_frame[\"OpenHour\"]=data_frame[\"Opened\"].apply(lambda x: x.hour)"
   ]
  },
  {
   "cell_type": "code",
   "execution_count": 16,
   "metadata": {
    "collapsed": true
   },
   "outputs": [],
   "source": [
    "data_frame[\"OpenDay\"]=data_frame[\"Opened\"].apply(lambda x: x.dayofweek)"
   ]
  },
  {
   "cell_type": "code",
   "execution_count": 17,
   "metadata": {
    "collapsed": true
   },
   "outputs": [],
   "source": [
    "data_frame[\"OpenMonth\"]=data_frame[\"Opened\"].apply(lambda x: x.month)"
   ]
  },
  {
   "cell_type": "code",
   "execution_count": 18,
   "metadata": {
    "collapsed": false
   },
   "outputs": [
    {
     "data": {
      "text/html": [
       "<div>\n",
       "<table border=\"1\" class=\"dataframe\">\n",
       "  <thead>\n",
       "    <tr style=\"text-align: right;\">\n",
       "      <th></th>\n",
       "      <th>CaseID</th>\n",
       "      <th>Opened</th>\n",
       "      <th>Closed</th>\n",
       "      <th>Responsible Agency</th>\n",
       "      <th>Category</th>\n",
       "      <th>Request Type</th>\n",
       "      <th>Request Details</th>\n",
       "      <th>Latitude</th>\n",
       "      <th>Longitude</th>\n",
       "      <th>Source</th>\n",
       "      <th>ProcessTime</th>\n",
       "      <th>OpenHour</th>\n",
       "      <th>OpenDay</th>\n",
       "      <th>OpenMonth</th>\n",
       "    </tr>\n",
       "  </thead>\n",
       "  <tbody>\n",
       "    <tr>\n",
       "      <th>0</th>\n",
       "      <td>241459</td>\n",
       "      <td>2008-07-02 15:16:55</td>\n",
       "      <td>2010-07-12 10:16:59</td>\n",
       "      <td>DPW Ops Queue</td>\n",
       "      <td>Tree Maintenance</td>\n",
       "      <td>Trees - Damaging_Property</td>\n",
       "      <td>Lifted_sidewalk_tree_roots</td>\n",
       "      <td>37.80493</td>\n",
       "      <td>-122.4381</td>\n",
       "      <td>Phone</td>\n",
       "      <td>17755.0</td>\n",
       "      <td>15</td>\n",
       "      <td>2</td>\n",
       "      <td>7</td>\n",
       "    </tr>\n",
       "    <tr>\n",
       "      <th>1</th>\n",
       "      <td>241538</td>\n",
       "      <td>2008-07-02 16:47:08</td>\n",
       "      <td>2010-06-25 11:16:56</td>\n",
       "      <td>DPW Ops Queue</td>\n",
       "      <td>Tree Maintenance</td>\n",
       "      <td>Trees - Damaged_Tree</td>\n",
       "      <td>Hanging_limb</td>\n",
       "      <td>37.78257</td>\n",
       "      <td>-122.4308</td>\n",
       "      <td>Phone</td>\n",
       "      <td>17346.0</td>\n",
       "      <td>16</td>\n",
       "      <td>2</td>\n",
       "      <td>7</td>\n",
       "    </tr>\n",
       "    <tr>\n",
       "      <th>2</th>\n",
       "      <td>241571</td>\n",
       "      <td>2008-07-02 17:54:07</td>\n",
       "      <td>2010-10-21 12:09:32</td>\n",
       "      <td>DPW Ops Queue</td>\n",
       "      <td>Tree Maintenance</td>\n",
       "      <td>Trees - Overgrown_Tree</td>\n",
       "      <td>Blocking_street_lights</td>\n",
       "      <td>37.78120</td>\n",
       "      <td>-122.4650</td>\n",
       "      <td>Phone</td>\n",
       "      <td>20178.0</td>\n",
       "      <td>17</td>\n",
       "      <td>2</td>\n",
       "      <td>7</td>\n",
       "    </tr>\n",
       "  </tbody>\n",
       "</table>\n",
       "</div>"
      ],
      "text/plain": [
       "   CaseID              Opened              Closed Responsible Agency  \\\n",
       "0  241459 2008-07-02 15:16:55 2010-07-12 10:16:59      DPW Ops Queue   \n",
       "1  241538 2008-07-02 16:47:08 2010-06-25 11:16:56      DPW Ops Queue   \n",
       "2  241571 2008-07-02 17:54:07 2010-10-21 12:09:32      DPW Ops Queue   \n",
       "\n",
       "           Category               Request Type             Request Details  \\\n",
       "0  Tree Maintenance  Trees - Damaging_Property  Lifted_sidewalk_tree_roots   \n",
       "1  Tree Maintenance       Trees - Damaged_Tree                Hanging_limb   \n",
       "2  Tree Maintenance     Trees - Overgrown_Tree      Blocking_street_lights   \n",
       "\n",
       "   Latitude  Longitude Source  ProcessTime  OpenHour  OpenDay  OpenMonth  \n",
       "0  37.80493  -122.4381  Phone      17755.0        15        2          7  \n",
       "1  37.78257  -122.4308  Phone      17346.0        16        2          7  \n",
       "2  37.78120  -122.4650  Phone      20178.0        17        2          7  "
      ]
     },
     "execution_count": 18,
     "metadata": {},
     "output_type": "execute_result"
    }
   ],
   "source": [
    "data_frame.head(3)"
   ]
  },
  {
   "cell_type": "code",
   "execution_count": 25,
   "metadata": {
    "collapsed": false
   },
   "outputs": [
    {
     "name": "stdout",
     "output_type": "stream",
     "text": [
      "Number of levels under Responsible Agency is 385\n",
      "Number of levels under Category is 99\n",
      "Number of levels under Request Type is 1174\n",
      "Number of levels under Request Details is 148878\n",
      "Number of levels under Source is 8\n"
     ]
    }
   ],
   "source": [
    "print(\"Number of levels under Responsible Agency is {}\".format(len(data_frame.groupby([\"Responsible Agency\"],axis=0))))\n",
    "print(\"Number of levels under Category is {}\".format(len(data_frame.groupby([\"Category\"],axis=0))))\n",
    "print(\"Number of levels under Request Type is {}\".format(len(data_frame.groupby([\"Request Type\"],axis=0))))\n",
    "print(\"Number of levels under Request Details is {}\".format(len(data_frame.groupby([\"Request Details\"],axis=0))))\n",
    "print(\"Number of levels under Source is {}\".format(len(data_frame.groupby([\"Source\"],axis=0))))"
   ]
  },
  {
   "cell_type": "code",
   "execution_count": 29,
   "metadata": {
    "collapsed": false
   },
   "outputs": [
    {
     "data": {
      "text/plain": [
       "Category\n",
       "311 External Request           15\n",
       "Abandoned Vehicle              11\n",
       "Blocked Street or SideWalk      3\n",
       "Catch Basin Maintenance         2\n",
       "Color Curb                     21\n",
       "Construction Zone Permits     832\n",
       "DPW Volunteer Programs          5\n",
       "Damaged Property               12\n",
       "Encampments                     2\n",
       "General Request -               6\n",
       "Name: Request Type, dtype: int64"
      ]
     },
     "execution_count": 29,
     "metadata": {},
     "output_type": "execute_result"
    }
   ],
   "source": [
    "data_frame.groupby(\"Category\")[\"Request Type\"].nunique().head(10)\n",
    "print(\"Number of levels under Category is {}\".format(len(data_frame.groupby([\"Category\"],axis=0))))"
   ]
  },
  {
   "cell_type": "code",
   "execution_count": 31,
   "metadata": {
    "collapsed": false
   },
   "outputs": [
    {
     "data": {
      "text/plain": [
       "count    2.690357e+06\n",
       "mean     8.438935e+02\n",
       "std      3.596942e+03\n",
       "min     -2.252000e+04\n",
       "25%      1.100000e+01\n",
       "50%      5.200000e+01\n",
       "75%      1.920000e+02\n",
       "max      8.114000e+04\n",
       "Name: ProcessTime, dtype: float64"
      ]
     },
     "execution_count": 31,
     "metadata": {},
     "output_type": "execute_result"
    }
   ],
   "source": [
    "data_frame[\"ProcessTime\"].describe()"
   ]
  },
  {
   "cell_type": "code",
   "execution_count": 35,
   "metadata": {
    "collapsed": true
   },
   "outputs": [],
   "source": [
    "### Filter rows for negative process times\n",
    "data_frame.mask(data_frame[\"ProcessTime\"]<=0,inplace=True)\n",
    "data_frame.dropna(axis=0,inplace=True)"
   ]
  },
  {
   "cell_type": "code",
   "execution_count": 36,
   "metadata": {
    "collapsed": false
   },
   "outputs": [],
   "source": [
    "### Calculate min and max to eliminate outliers\n",
    "q25=data_frame[\"ProcessTime\"].quantile(0.25)\n",
    "q75=data_frame[\"ProcessTime\"].quantile(0.75)\n",
    "IQR=q75-q25\n",
    "d_min=q25-1.5*IQR\n",
    "d_max=q75+1.5*IQR\n",
    "data_frame.mask(data_frame[\"ProcessTime\"]<d_min,inplace=True)\n",
    "data_frame.mask(data_frame[\"ProcessTime\"]>d_max,inplace=True)\n",
    "data_frame.dropna(axis=0,inplace=True)\n"
   ]
  },
  {
   "cell_type": "code",
   "execution_count": 37,
   "metadata": {
    "collapsed": false
   },
   "outputs": [
    {
     "data": {
      "text/html": [
       "<div>\n",
       "<table border=\"1\" class=\"dataframe\">\n",
       "  <thead>\n",
       "    <tr style=\"text-align: right;\">\n",
       "      <th></th>\n",
       "      <th>CaseID</th>\n",
       "      <th>Opened</th>\n",
       "      <th>Closed</th>\n",
       "      <th>Responsible Agency</th>\n",
       "      <th>Category</th>\n",
       "      <th>Request Type</th>\n",
       "      <th>Request Details</th>\n",
       "      <th>Latitude</th>\n",
       "      <th>Longitude</th>\n",
       "      <th>Source</th>\n",
       "      <th>ProcessTime</th>\n",
       "      <th>OpenHour</th>\n",
       "      <th>OpenDay</th>\n",
       "      <th>OpenMonth</th>\n",
       "    </tr>\n",
       "  </thead>\n",
       "  <tbody>\n",
       "    <tr>\n",
       "      <th>36</th>\n",
       "      <td>342254.0</td>\n",
       "      <td>2008-12-31 14:25:49</td>\n",
       "      <td>2008-12-31 16:40:16</td>\n",
       "      <td>311 Supervisor Queue</td>\n",
       "      <td>Graffiti</td>\n",
       "      <td>Graffiti on Signal_box</td>\n",
       "      <td>Signal_box - Offensive</td>\n",
       "      <td>37.78684</td>\n",
       "      <td>-122.4501</td>\n",
       "      <td>Web</td>\n",
       "      <td>2.0</td>\n",
       "      <td>14.0</td>\n",
       "      <td>2.0</td>\n",
       "      <td>12.0</td>\n",
       "    </tr>\n",
       "    <tr>\n",
       "      <th>37</th>\n",
       "      <td>928326.0</td>\n",
       "      <td>2011-07-27 09:46:02</td>\n",
       "      <td>2011-07-27 13:43:57</td>\n",
       "      <td>SSP - MTA Feedback Queue</td>\n",
       "      <td>MUNI Feedback</td>\n",
       "      <td>MUNI  - Services_Service_Planning</td>\n",
       "      <td>701_Insufficient_Frequency</td>\n",
       "      <td>0.00000</td>\n",
       "      <td>0.0000</td>\n",
       "      <td>Web</td>\n",
       "      <td>3.0</td>\n",
       "      <td>9.0</td>\n",
       "      <td>2.0</td>\n",
       "      <td>7.0</td>\n",
       "    </tr>\n",
       "  </tbody>\n",
       "</table>\n",
       "</div>"
      ],
      "text/plain": [
       "      CaseID              Opened              Closed  \\\n",
       "36  342254.0 2008-12-31 14:25:49 2008-12-31 16:40:16   \n",
       "37  928326.0 2011-07-27 09:46:02 2011-07-27 13:43:57   \n",
       "\n",
       "          Responsible Agency       Category  \\\n",
       "36      311 Supervisor Queue       Graffiti   \n",
       "37  SSP - MTA Feedback Queue  MUNI Feedback   \n",
       "\n",
       "                         Request Type             Request Details  Latitude  \\\n",
       "36             Graffiti on Signal_box      Signal_box - Offensive  37.78684   \n",
       "37  MUNI  - Services_Service_Planning  701_Insufficient_Frequency   0.00000   \n",
       "\n",
       "    Longitude Source  ProcessTime  OpenHour  OpenDay  OpenMonth  \n",
       "36  -122.4501    Web          2.0      14.0      2.0       12.0  \n",
       "37     0.0000    Web          3.0       9.0      2.0        7.0  "
      ]
     },
     "execution_count": 37,
     "metadata": {},
     "output_type": "execute_result"
    }
   ],
   "source": [
    "data_frame.head(2)"
   ]
  },
  {
   "cell_type": "code",
   "execution_count": 38,
   "metadata": {
    "collapsed": false
   },
   "outputs": [
    {
     "name": "stdout",
     "output_type": "stream",
     "text": [
      "2077687\n"
     ]
    },
    {
     "data": {
      "text/plain": [
       "count    2.077686e+06\n",
       "mean     8.395507e+01\n",
       "std      1.047634e+02\n",
       "min      1.000000e+00\n",
       "25%      1.300000e+01\n",
       "50%      4.400000e+01\n",
       "75%      1.170000e+02\n",
       "max      5.290000e+02\n",
       "Name: ProcessTime, dtype: float64"
      ]
     },
     "execution_count": 38,
     "metadata": {},
     "output_type": "execute_result"
    }
   ],
   "source": [
    "print(data_frame[\"ProcessTime\"].count()+1)\n",
    "data_frame.ProcessTime.describe()\n"
   ]
  },
  {
   "cell_type": "code",
   "execution_count": 56,
   "metadata": {
    "collapsed": false
   },
   "outputs": [
    {
     "data": {
      "text/plain": [
       "<matplotlib.axes._subplots.AxesSubplot at 0x1daa94cc0>"
      ]
     },
     "execution_count": 56,
     "metadata": {},
     "output_type": "execute_result"
    },
    {
     "data": {
      "image/png": "[encoded data removed]",
      "text/plain": [
       "<matplotlib.figure.Figure at 0x134919278>"
      ]
     },
     "metadata": {},
     "output_type": "display_data"
    }
   ],
   "source": [
    "plt.figure()\n",
    "#data_frame[\"ProcessTime\"].plot.box()\n",
    "data_frame[\"ProcessTime\"].plot(kind='kde')\n"
   ]
  },
  {
   "cell_type": "code",
   "execution_count": 40,
   "metadata": {
    "collapsed": false
   },
   "outputs": [
    {
     "data": {
      "text/plain": [
       "count    2.077686e+06\n",
       "mean     3.280351e+01\n",
       "std      1.275587e+01\n",
       "min      0.000000e+00\n",
       "25%      3.773278e+01\n",
       "50%      3.776328e+01\n",
       "75%      3.777980e+01\n",
       "max      3.788160e+01\n",
       "Name: Latitude, dtype: float64"
      ]
     },
     "execution_count": 40,
     "metadata": {},
     "output_type": "execute_result"
    }
   ],
   "source": [
    "data_frame.Latitude.describe()"
   ]
  },
  {
   "cell_type": "code",
   "execution_count": 41,
   "metadata": {
    "collapsed": false
   },
   "outputs": [
    {
     "data": {
      "text/plain": [
       "count    2.077686e+06\n",
       "mean    -1.063490e+02\n",
       "std      4.135445e+01\n",
       "min     -1.412191e+02\n",
       "25%     -1.224385e+02\n",
       "50%     -1.224187e+02\n",
       "75%     -1.224049e+02\n",
       "max      0.000000e+00\n",
       "Name: Longitude, dtype: float64"
      ]
     },
     "execution_count": 41,
     "metadata": {},
     "output_type": "execute_result"
    }
   ],
   "source": [
    "data_frame.Longitude.describe()"
   ]
  },
  {
   "cell_type": "code",
   "execution_count": 42,
   "metadata": {
    "collapsed": false
   },
   "outputs": [
    {
     "data": {
      "text/html": [
       "<div>\n",
       "<table border=\"1\" class=\"dataframe\">\n",
       "  <thead>\n",
       "    <tr style=\"text-align: right;\">\n",
       "      <th></th>\n",
       "      <th>CaseID</th>\n",
       "      <th>Opened</th>\n",
       "      <th>Closed</th>\n",
       "      <th>Responsible Agency</th>\n",
       "      <th>Category</th>\n",
       "      <th>Request Type</th>\n",
       "      <th>Request Details</th>\n",
       "      <th>Latitude</th>\n",
       "      <th>Longitude</th>\n",
       "      <th>Source</th>\n",
       "      <th>ProcessTime</th>\n",
       "      <th>OpenHour</th>\n",
       "      <th>OpenDay</th>\n",
       "      <th>OpenMonth</th>\n",
       "    </tr>\n",
       "  </thead>\n",
       "  <tbody>\n",
       "    <tr>\n",
       "      <th>36</th>\n",
       "      <td>342254.0</td>\n",
       "      <td>2008-12-31 14:25:49</td>\n",
       "      <td>2008-12-31 16:40:16</td>\n",
       "      <td>311 Supervisor Queue</td>\n",
       "      <td>Graffiti</td>\n",
       "      <td>Graffiti on Signal_box</td>\n",
       "      <td>Signal_box - Offensive</td>\n",
       "      <td>37.78684</td>\n",
       "      <td>-122.4501</td>\n",
       "      <td>Web</td>\n",
       "      <td>2.0</td>\n",
       "      <td>14.0</td>\n",
       "      <td>2.0</td>\n",
       "      <td>12.0</td>\n",
       "    </tr>\n",
       "    <tr>\n",
       "      <th>47</th>\n",
       "      <td>342168.0</td>\n",
       "      <td>2008-12-31 13:00:46</td>\n",
       "      <td>2008-12-31 14:07:06</td>\n",
       "      <td>DPW Ops Queue</td>\n",
       "      <td>Street and Sidewalk Cleaning</td>\n",
       "      <td>General Cleaning</td>\n",
       "      <td>Other Loose Garbage</td>\n",
       "      <td>37.78075</td>\n",
       "      <td>-122.4871</td>\n",
       "      <td>Phone</td>\n",
       "      <td>1.0</td>\n",
       "      <td>13.0</td>\n",
       "      <td>2.0</td>\n",
       "      <td>12.0</td>\n",
       "    </tr>\n",
       "  </tbody>\n",
       "</table>\n",
       "</div>"
      ],
      "text/plain": [
       "      CaseID              Opened              Closed    Responsible Agency  \\\n",
       "36  342254.0 2008-12-31 14:25:49 2008-12-31 16:40:16  311 Supervisor Queue   \n",
       "47  342168.0 2008-12-31 13:00:46 2008-12-31 14:07:06         DPW Ops Queue   \n",
       "\n",
       "                        Category            Request Type  \\\n",
       "36                      Graffiti  Graffiti on Signal_box   \n",
       "47  Street and Sidewalk Cleaning        General Cleaning   \n",
       "\n",
       "           Request Details  Latitude  Longitude Source  ProcessTime  OpenHour  \\\n",
       "36  Signal_box - Offensive  37.78684  -122.4501    Web          2.0      14.0   \n",
       "47     Other Loose Garbage  37.78075  -122.4871  Phone          1.0      13.0   \n",
       "\n",
       "    OpenDay  OpenMonth  \n",
       "36      2.0       12.0  \n",
       "47      2.0       12.0  "
      ]
     },
     "execution_count": 42,
     "metadata": {},
     "output_type": "execute_result"
    }
   ],
   "source": [
    "data_frame.mask(data_frame[\"Latitude\"]==0.0,inplace=True)\n",
    "data_frame.mask(data_frame[\"Longitude\"]==0.0,inplace=True)\n",
    "data_frame.dropna(axis=0,inplace=True)\n",
    "data_frame.head(2)"
   ]
  },
  {
   "cell_type": "code",
   "execution_count": 43,
   "metadata": {
    "collapsed": true
   },
   "outputs": [],
   "source": [
    "from sklearn import base\n",
    "import numpy as np"
   ]
  },
  {
   "cell_type": "code",
   "execution_count": 44,
   "metadata": {
    "collapsed": true
   },
   "outputs": [],
   "source": [
    "### An estimator class to pass Feature Union\n",
    "class ColumnSelectTransformer(base.BaseEstimator, base.TransformerMixin):\n",
    "    \n",
    "    def __init__(self, col_names):\n",
    "        self.col_names = col_names  # We will need these in transform()\n",
    "    \n",
    "    def fit(self, X, y=None):\n",
    "        # This transformer doesn't need to learn anything about the data,\n",
    "        # so it can just return self without any further processing\n",
    "        return self\n",
    "    \n",
    "    def transform(self, X,y=None):\n",
    "        # Return an array with the same number of rows as X and one\n",
    "        # column for each in self.col_names\n",
    "        return [[row[1][n] for n in self.col_names] for row in X.iterrows()]\n",
    "    \n"
   ]
  },
  {
   "cell_type": "code",
   "execution_count": 45,
   "metadata": {
    "collapsed": false
   },
   "outputs": [],
   "source": [
    "### Checkout the class\n",
    "cst = ColumnSelectTransformer(['Latitude', 'Longitude'])\n",
    "assert (cst.fit_transform(data_frame.iloc[:1]))== [[data_frame.iloc[0]['Latitude'], data_frame.iloc[0]['Longitude']]]"
   ]
  },
  {
   "cell_type": "code",
   "execution_count": 46,
   "metadata": {
    "collapsed": true
   },
   "outputs": [],
   "source": [
    "## One-hot encoding of categorical features\n",
    "class Encoder(base.BaseEstimator, base.TransformerMixin):\n",
    "    \n",
    "    def __init__(self,column,data):\n",
    "        from sklearn.preprocessing import LabelBinarizer\n",
    "        self.encoder=LabelBinarizer()\n",
    "        self.column=column\n",
    "        self.encoder.fit(data[self.column])\n",
    "        \n",
    "    \n",
    "    def fit(self, X,y=None):\n",
    "        return self\n",
    "\n",
    "    def transform(self, X,y=None):\n",
    "        return self.encoder.transform(X[self.column])\n",
    "    \n",
    "\n",
    "    \n",
    "\n"
   ]
  },
  {
   "cell_type": "code",
   "execution_count": 47,
   "metadata": {
    "collapsed": false
   },
   "outputs": [],
   "source": [
    "from sklearn.pipeline import FeatureUnion\n",
    "###Learn dictonaries for each categorical data\n",
    "num_of_data=data_frame[\"Category\"].count()\n",
    "cst = ColumnSelectTransformer(['Latitude', 'Longitude','OpenHour','OpenDay','OpenMonth'])\n",
    "enc1=Encoder(\"Responsible Agency\",data_frame[:num_of_data])\n",
    "enc2=Encoder(\"Category\",data_frame[:num_of_data])\n",
    "enc3=Encoder(\"Request Type\",data_frame[:num_of_data])\n",
    "enc4=Encoder(\"Source\",data_frame[:num_of_data])\n",
    "estimators=[(\"trans\",cst),(\"enc1\",enc1),(\"enc2\",enc2),(\"enc3\",enc3),(\"enc4\",enc4)]\n",
    "union=FeatureUnion(estimators)"
   ]
  },
  {
   "cell_type": "code",
   "execution_count": 48,
   "metadata": {
    "collapsed": false
   },
   "outputs": [],
   "source": [
    "## Prepare train and test data\n",
    "from sklearn.model_selection import train_test_split\n",
    "data_frame.dropna(axis=0,inplace=True)\n",
    "target=ColumnSelectTransformer([\"ProcessTime\"]).fit_transform(data_frame[:num_of_data])\n",
    "X_train, X_test, y_train, y_test = train_test_split(data_frame[:num_of_data], target[:num_of_data], \n",
    "                                                    test_size=0.1, random_state=42)"
   ]
  },
  {
   "cell_type": "code",
   "execution_count": 49,
   "metadata": {
    "collapsed": false
   },
   "outputs": [
    {
     "name": "stderr",
     "output_type": "stream",
     "text": [
      "/Users/ozlemsenlik/anaconda3/lib/python3.6/site-packages/sklearn/utils/validation.py:526: DataConversionWarning: A column-vector y was passed when a 1d array was expected. Please change the shape of y to (n_samples, ), for example using ravel().\n",
      "  y = column_or_1d(y, warn=True)\n"
     ]
    },
    {
     "data": {
      "text/plain": [
       "Pipeline(steps=[('feature', FeatureUnion(n_jobs=1,\n",
       "       transformer_list=[('trans', ColumnSelectTransformer(col_names=['Latitude', 'Longitude', 'OpenHour', 'OpenDay', 'OpenMonth'])), ('enc1', Encoder(column='Responsible Agency', data=None)), ('enc2', Encoder(column='Category', data=None)), ('enc3', Encoder... penalty='l2', power_t=0.25,\n",
       "       random_state=None, shuffle=False, verbose=0, warm_start=False))])"
      ]
     },
     "execution_count": 49,
     "metadata": {},
     "output_type": "execute_result"
    }
   ],
   "source": [
    "from sklearn.linear_model import SGDRegressor\n",
    "from sklearn.pipeline import Pipeline\n",
    "reg=SGDRegressor(alpha=0.00003,loss=\"huber\",penalty=\"l2\",learning_rate=\"optimal\",shuffle=False)\n",
    "pipe=Pipeline([(\"feature\",union),(\"reg\",reg)])\n",
    "pipe.fit(X_train,y_train)\n",
    "\n"
   ]
  },
  {
   "cell_type": "code",
   "execution_count": 50,
   "metadata": {
    "collapsed": false
   },
   "outputs": [
    {
     "data": {
      "text/plain": [
       "59.970428672131945"
      ]
     },
     "execution_count": 50,
     "metadata": {},
     "output_type": "execute_result"
    }
   ],
   "source": [
    "from sklearn.metrics import mean_absolute_error\n",
    "y_predict=pipe.predict(X_test)\n",
    "mean_absolute_error(y_test,y_predict)"
   ]
  },
  {
   "cell_type": "code",
   "execution_count": 51,
   "metadata": {
    "collapsed": false
   },
   "outputs": [
    {
     "data": {
      "text/plain": [
       "array([ 57.94251873,  56.82411279,  29.60694964,  54.09997398,\n",
       "       103.56281911,  69.34229255,   7.1215897 ,  68.61974598,\n",
       "        10.43402891,  23.81016697])"
      ]
     },
     "execution_count": 51,
     "metadata": {},
     "output_type": "execute_result"
    }
   ],
   "source": [
    "y_predict[:10]"
   ]
  },
  {
   "cell_type": "code",
   "execution_count": 52,
   "metadata": {
    "collapsed": false
   },
   "outputs": [
    {
     "data": {
      "text/plain": [
       "[[53.0], [124.0], [79.0], [17.0], [212.0], [13.0], [5.0], [6.0], [1.0], [45.0]]"
      ]
     },
     "execution_count": 52,
     "metadata": {},
     "output_type": "execute_result"
    }
   ],
   "source": [
    "y_test[:10]"
   ]
  },
  {
   "cell_type": "code",
   "execution_count": 53,
   "metadata": {
    "collapsed": false
   },
   "outputs": [
    {
     "data": {
      "text/plain": [
       "<matplotlib.collections.PathCollection at 0x1b193dd30>"
      ]
     },
     "execution_count": 53,
     "metadata": {},
     "output_type": "execute_result"
    },
    {
     "data": {
      "image/png": "[encoded data removed]",
      "text/plain": [
       "<matplotlib.figure.Figure at 0x111071160>"
      ]
     },
     "metadata": {},
     "output_type": "display_data"
    }
   ],
   "source": [
    "plt.figure()\n",
    "plt.scatter(y_test[:300],y_predict[:300])"
   ]
  },
  {
   "cell_type": "code",
   "execution_count": null,
   "metadata": {
    "collapsed": true
   },
   "outputs": [],
   "source": []
  }
 ],
 "metadata": {
  "kernelspec": {
   "display_name": "Python 3",
   "language": "python",
   "name": "python3"
  },
  "language_info": {
   "codemirror_mode": {
    "name": "ipython",
    "version": 3
   },
   "file_extension": ".py",
   "mimetype": "text/x-python",
   "name": "python",
   "nbconvert_exporter": "python",
   "pygments_lexer": "ipython3",
   "version": "3.6.0"
  }
 },
 "nbformat": 4,
 "nbformat_minor": 0
}
